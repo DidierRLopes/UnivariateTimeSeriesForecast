{
 "cells": [
  {
   "cell_type": "code",
   "execution_count": 1,
   "metadata": {},
   "outputs": [
    {
     "data": {
      "text/plain": [
       "array([ 0,  1,  2,  3,  4,  5,  6,  7,  8,  9, 10, 11, 12, 13, 14, 15, 16,\n",
       "       17, 18, 19, 20, 21, 22, 23, 24, 25, 26])"
      ]
     },
     "execution_count": 1,
     "metadata": {},
     "output_type": "execute_result"
    }
   ],
   "source": [
    "import numpy as np\n",
    "timeSeries = np.arange(27)\n",
    "timeSeries"
   ]
  },
  {
   "cell_type": "code",
   "execution_count": 65,
   "metadata": {},
   "outputs": [
    {
     "name": "stdout",
     "output_type": "stream",
     "text": [
      "--------- SET 1 ---------\n",
      "X[1] = [0 1 2 3]\n",
      "y[1] = [4 5 6]\n",
      "--------- SET 2 ---------\n",
      "X[2] = [3 4 5 6]\n",
      "y[2] = [7 8 9]\n",
      "--------- SET 3 ---------\n",
      "X[3] = [6 7 8 9]\n",
      "y[3] = [10 11 12]\n",
      "--------- SET 4 ---------\n",
      "X[4] = [ 9 10 11 12]\n",
      "y[4] = [13 14 15]\n",
      "--------- SET 5 ---------\n",
      "X[5] = [12 13 14 15]\n",
      "y[5] = [16 17 18]\n",
      "--------- SET 6 ---------\n",
      "X[6] = [15 16 17 18]\n",
      "y[6] = [19 20 21]\n",
      "--------- SET 7 ---------\n",
      "X[7] = [18 19 20 21]\n",
      "y[7] = [22 23 24]\n",
      "--------- SET 8 ---------\n"
     ]
    },
    {
     "ename": "IndexError",
     "evalue": "index 7 is out of bounds for axis 0 with size 7",
     "output_type": "error",
     "traceback": [
      "\u001b[0;31m---------------------------------------------------------------------------\u001b[0m",
      "\u001b[0;31mIndexError\u001b[0m                                Traceback (most recent call last)",
      "\u001b[0;32m<ipython-input-65-20dd1fced07f>\u001b[0m in \u001b[0;36m<module>\u001b[0;34m()\u001b[0m\n\u001b[1;32m     18\u001b[0m \u001b[0;32mfor\u001b[0m \u001b[0mj\u001b[0m \u001b[0;32min\u001b[0m \u001b[0mnp\u001b[0m\u001b[0;34m.\u001b[0m\u001b[0marange\u001b[0m\u001b[0;34m(\u001b[0m\u001b[0;36m10\u001b[0m\u001b[0;34m)\u001b[0m\u001b[0;34m:\u001b[0m\u001b[0;34m\u001b[0m\u001b[0;34m\u001b[0m\u001b[0m\n\u001b[1;32m     19\u001b[0m     \u001b[0mprint\u001b[0m\u001b[0;34m(\u001b[0m\u001b[0;34m\"--------- SET %d ---------\"\u001b[0m \u001b[0;34m%\u001b[0m \u001b[0;34m(\u001b[0m\u001b[0mj\u001b[0m\u001b[0;34m+\u001b[0m\u001b[0;36m1\u001b[0m\u001b[0;34m)\u001b[0m\u001b[0;34m)\u001b[0m\u001b[0;34m\u001b[0m\u001b[0;34m\u001b[0m\u001b[0m\n\u001b[0;32m---> 20\u001b[0;31m     \u001b[0mprint\u001b[0m\u001b[0;34m(\u001b[0m\u001b[0;34m\"X[%d] =\"\u001b[0m\u001b[0;34m%\u001b[0m \u001b[0;34m(\u001b[0m\u001b[0mj\u001b[0m\u001b[0;34m+\u001b[0m\u001b[0;36m1\u001b[0m\u001b[0;34m)\u001b[0m\u001b[0;34m,\u001b[0m \u001b[0mX\u001b[0m\u001b[0;34m[\u001b[0m\u001b[0mj\u001b[0m\u001b[0;34m]\u001b[0m\u001b[0;34m)\u001b[0m\u001b[0;34m\u001b[0m\u001b[0;34m\u001b[0m\u001b[0m\n\u001b[0m\u001b[1;32m     21\u001b[0m     \u001b[0mprint\u001b[0m\u001b[0;34m(\u001b[0m\u001b[0;34m\"y[%d] =\"\u001b[0m\u001b[0;34m%\u001b[0m \u001b[0;34m(\u001b[0m\u001b[0mj\u001b[0m\u001b[0;34m+\u001b[0m\u001b[0;36m1\u001b[0m\u001b[0;34m)\u001b[0m\u001b[0;34m,\u001b[0m \u001b[0my\u001b[0m\u001b[0;34m[\u001b[0m\u001b[0mj\u001b[0m\u001b[0;34m]\u001b[0m\u001b[0;34m)\u001b[0m\u001b[0;34m\u001b[0m\u001b[0;34m\u001b[0m\u001b[0m\n",
      "\u001b[0;31mIndexError\u001b[0m: index 7 is out of bounds for axis 0 with size 7"
     ]
    }
   ],
   "source": [
    "def split_train(sequence, n_steps_input, n_steps_forecast, n_steps_jump):\n",
    "    X, y = list(), list()\n",
    "    for i in range(len(sequence)):\n",
    "        i = n_steps_jump*i;\n",
    "        # Descobrir o indice da ultima amostra\n",
    "        end_ix = i + n_steps_input\n",
    "        # Se tivermos chegado ao fim da serie paramos\n",
    "        if end_ix+n_steps_forecast > len(sequence):\n",
    "            break\n",
    "        # Extrai training/testing data\n",
    "        seq_x = sequence[i:end_ix] \n",
    "        X.append(seq_x)\n",
    "        seq_y = sequence[end_ix:end_ix+n_steps_forecast]\n",
    "        y.append(seq_y)\n",
    "    return np.array(X), np.array(y)\n",
    "\n",
    "X, y = split_train(timeSeries, n_steps_input=4, n_steps_forecast=3, n_steps_jump=3)\n",
    "for j in np.arange(10):\n",
    "    print(\"--------- SET %d ---------\" % (j+1))\n",
    "    print(\"X[%d] =\"% (j+1), X[j])\n",
    "    print(\"y[%d] =\"% (j+1), y[j])"
   ]
  },
  {
   "cell_type": "code",
   "execution_count": 95,
   "metadata": {},
   "outputs": [
    {
     "data": {
      "image/png": "[encoded data removed]",
      "text/plain": [
       "<Figure size 1440x936 with 1 Axes>"
      ]
     },
     "metadata": {},
     "output_type": "display_data"
    }
   ],
   "source": [
    "import matplotlib.pyplot as plt\n",
    "import matplotlib.patches as patches\n",
    "from matplotlib.lines import Line2D\n",
    "# Plot original time series in usage\n",
    "fig, ax = plt.subplots(figsize=(20, 13))\n",
    "ax.plot(timeSeries, len(timeSeries) * [len(X)-0.75], lw=3, c='k')\n",
    "k = 1./max([len(x)+2 for x in X])\n",
    "k = 0\n",
    "numSets = len(X)\n",
    "# Loop through train/val sets\n",
    "level = 10\n",
    "for i in np.arange(len(X)):\n",
    "    plt.plot(X[i], len(X[i]) * [numSets-i-1-k*level], lw=4, c='blue')\n",
    "    plt.plot([X[i][-1], y[i][0]], 2*[numSets-i-1-k*level], lw=2, c='blue')\n",
    "    plt.plot(y[i], len(y[i]) * [numSets-i-1-k*level], lw=4, c='lightblue')\n",
    "ax.grid(which='minor')\n",
    "ax.set_yticks(np.arange(len(X), 0, -1)-1)\n",
    "ax.set_yticklabels(np.arange(1, len(X)+1, 1))\n",
    "ax.set_ylabel(\"Train set\", size=16)\n",
    "custom_lines = [Line2D([0], [0], color='k', lw=4), \n",
    "                Line2D([0], [0], color='blue', lw=4), Line2D([0], [0], color='lightblue', lw=4)]\n",
    "ax.legend(custom_lines, ['Original Time-Series', \n",
    "                         'X (Train input)', 'y (Train output)' ], \n",
    "          loc='upper center', ncol=3, handleheight=2.4, labelspacing=0.05)\n",
    "ax.set_ylim([-.5, len(X)])\n",
    "ax.set_title('Split Training data', size=18);\n",
    "plt.grid('minor')\n",
    "plt.show()"
   ]
  },
  {
   "cell_type": "code",
   "execution_count": 2,
   "metadata": {},
   "outputs": [
    {
     "name": "stdout",
     "output_type": "stream",
     "text": [
      "--------- SET 1 ---------\n",
      "X[1] = [0 1 2 3] [2 3 4 5]\n",
      "y[1] = [4 5 6] [6 7 8]\n",
      "Xcv[1] = [6 7 8 9]\n",
      "ycv[1] = [10 11 12]\n",
      "--------- SET 2 ---------\n",
      "X[2] = [0 1 2 3] [2 3 4 5] [4 5 6 7]\n",
      "y[2] = [4 5 6] [6 7 8] [ 8  9 10]\n",
      "Xcv[2] = [ 8  9 10 11]\n",
      "ycv[2] = [12 13 14]\n",
      "--------- SET 3 ---------\n",
      "X[3] = [0 1 2 3] [2 3 4 5] [4 5 6 7] [6 7 8 9]\n",
      "y[3] = [4 5 6] [6 7 8] [ 8  9 10] [10 11 12]\n",
      "Xcv[3] = [10 11 12 13]\n",
      "ycv[3] = [14 15 16]\n",
      "--------- SET 4 ---------\n",
      "X[4] = [0 1 2 3] [2 3 4 5] [4 5 6 7] [6 7 8 9] [ 8  9 10 11]\n",
      "y[4] = [4 5 6] [6 7 8] [ 8  9 10] [10 11 12] [12 13 14]\n",
      "Xcv[4] = [12 13 14 15]\n",
      "ycv[4] = [16 17 18]\n",
      "--------- SET 5 ---------\n",
      "X[5] = [0 1 2 3] [2 3 4 5] [4 5 6 7] [6 7 8 9] [ 8  9 10 11] [10 11 12 13]\n",
      "y[5] = [4 5 6] [6 7 8] [ 8  9 10] [10 11 12] [12 13 14] [14 15 16]\n",
      "Xcv[5] = [14 15 16 17]\n",
      "ycv[5] = [18 19 20]\n",
      "--------- SET 6 ---------\n",
      "X[6] = [0 1 2 3] [2 3 4 5] [4 5 6 7] [6 7 8 9] [ 8  9 10 11] [10 11 12 13] [12 13 14 15]\n",
      "y[6] = [4 5 6] [6 7 8] [ 8  9 10] [10 11 12] [12 13 14] [14 15 16] [16 17 18]\n",
      "Xcv[6] = [16 17 18 19]\n",
      "ycv[6] = [20 21 22]\n",
      "--------- SET 7 ---------\n",
      "X[7] = [0 1 2 3] [2 3 4 5] [4 5 6 7] [6 7 8 9] [ 8  9 10 11] [10 11 12 13] [12 13 14 15] [14 15 16 17]\n",
      "y[7] = [4 5 6] [6 7 8] [ 8  9 10] [10 11 12] [12 13 14] [14 15 16] [16 17 18] [18 19 20]\n",
      "Xcv[7] = [18 19 20 21]\n",
      "ycv[7] = [22 23 24]\n",
      "--------- SET 8 ---------\n",
      "X[8] = [0 1 2 3] [2 3 4 5] [4 5 6 7] [6 7 8 9] [ 8  9 10 11] [10 11 12 13] [12 13 14 15] [14 15 16 17] [16 17 18 19]\n",
      "y[8] = [4 5 6] [6 7 8] [ 8  9 10] [10 11 12] [12 13 14] [14 15 16] [16 17 18] [18 19 20] [20 21 22]\n",
      "Xcv[8] = [20 21 22 23]\n",
      "ycv[8] = [24 25 26]\n",
      "--------- SET 9 ---------\n"
     ]
    },
    {
     "ename": "KeyError",
     "evalue": "8",
     "output_type": "error",
     "traceback": [
      "\u001b[0;31m---------------------------------------------------------------------------\u001b[0m",
      "\u001b[0;31mKeyError\u001b[0m                                  Traceback (most recent call last)",
      "\u001b[0;32m<ipython-input-2-251262100dc4>\u001b[0m in \u001b[0;36m<module>\u001b[0;34m()\u001b[0m\n\u001b[1;32m     48\u001b[0m \u001b[0;32mfor\u001b[0m \u001b[0mj\u001b[0m \u001b[0;32min\u001b[0m \u001b[0mnp\u001b[0m\u001b[0;34m.\u001b[0m\u001b[0marange\u001b[0m\u001b[0;34m(\u001b[0m\u001b[0;36m10\u001b[0m\u001b[0;34m)\u001b[0m\u001b[0;34m:\u001b[0m\u001b[0;34m\u001b[0m\u001b[0;34m\u001b[0m\u001b[0m\n\u001b[1;32m     49\u001b[0m     \u001b[0mprint\u001b[0m\u001b[0;34m(\u001b[0m\u001b[0;34m\"--------- SET %d ---------\"\u001b[0m \u001b[0;34m%\u001b[0m \u001b[0;34m(\u001b[0m\u001b[0mj\u001b[0m\u001b[0;34m+\u001b[0m\u001b[0;36m1\u001b[0m\u001b[0;34m)\u001b[0m\u001b[0;34m)\u001b[0m\u001b[0;34m\u001b[0m\u001b[0;34m\u001b[0m\u001b[0m\n\u001b[0;32m---> 50\u001b[0;31m     \u001b[0mprint\u001b[0m\u001b[0;34m(\u001b[0m\u001b[0;34m\"X[%d] =\"\u001b[0m\u001b[0;34m%\u001b[0m \u001b[0;34m(\u001b[0m\u001b[0mj\u001b[0m\u001b[0;34m+\u001b[0m\u001b[0;36m1\u001b[0m\u001b[0;34m)\u001b[0m\u001b[0;34m,\u001b[0m \u001b[0;34m*\u001b[0m\u001b[0mX\u001b[0m\u001b[0;34m[\u001b[0m\u001b[0mj\u001b[0m\u001b[0;34m]\u001b[0m\u001b[0;34m)\u001b[0m\u001b[0;34m\u001b[0m\u001b[0;34m\u001b[0m\u001b[0m\n\u001b[0m\u001b[1;32m     51\u001b[0m     \u001b[0mprint\u001b[0m\u001b[0;34m(\u001b[0m\u001b[0;34m\"y[%d] =\"\u001b[0m\u001b[0;34m%\u001b[0m \u001b[0;34m(\u001b[0m\u001b[0mj\u001b[0m\u001b[0;34m+\u001b[0m\u001b[0;36m1\u001b[0m\u001b[0;34m)\u001b[0m\u001b[0;34m,\u001b[0m \u001b[0;34m*\u001b[0m\u001b[0my\u001b[0m\u001b[0;34m[\u001b[0m\u001b[0mj\u001b[0m\u001b[0;34m]\u001b[0m\u001b[0;34m)\u001b[0m\u001b[0;34m\u001b[0m\u001b[0;34m\u001b[0m\u001b[0m\n\u001b[1;32m     52\u001b[0m     \u001b[0mprint\u001b[0m\u001b[0;34m(\u001b[0m\u001b[0;34m\"Xcv[%d] =\"\u001b[0m\u001b[0;34m%\u001b[0m \u001b[0;34m(\u001b[0m\u001b[0mj\u001b[0m\u001b[0;34m+\u001b[0m\u001b[0;36m1\u001b[0m\u001b[0;34m)\u001b[0m\u001b[0;34m,\u001b[0m \u001b[0;34m*\u001b[0m\u001b[0mXcv\u001b[0m\u001b[0;34m[\u001b[0m\u001b[0mj\u001b[0m\u001b[0;34m]\u001b[0m\u001b[0;34m)\u001b[0m\u001b[0;34m\u001b[0m\u001b[0;34m\u001b[0m\u001b[0m\n",
      "\u001b[0;31mKeyError\u001b[0m: 8"
     ]
    }
   ],
   "source": [
    "def split_train_cv_forwardChaining(sequence, n_steps_input, n_steps_forecast, n_steps_jump):\n",
    "    X, y, Xcv, ycv = dict(), dict(), dict(), dict()\n",
    "    j=2; # Tracks index of CV set at each train/val split\n",
    "    \n",
    "    # Iterate through all train/val splits\n",
    "    while 1:\n",
    "        start_ix=0; end_ix=0; startCv_ix=0; endCv_ix=0;\n",
    "        X_it, y_it, Xcv_it, ycv_it = list(), list(), list(), list()\n",
    "        i=0; # Index of individual training set at each train/val split\n",
    "        \n",
    "        # Iterate until index of individual training set is smaller than index of cv set\n",
    "        while (i < j):\n",
    "            ## TRAINING DATA\n",
    "            start_ix = n_steps_jump*i;\n",
    "            end_ix = start_ix + n_steps_input;\n",
    "            \n",
    "            seq_x = sequence[start_ix:end_ix] \n",
    "            X_it.append(seq_x)\n",
    "            seq_y = sequence[end_ix:end_ix+n_steps_forecast]\n",
    "            y_it.append(seq_y)\n",
    "            \n",
    "            i+=1;\n",
    "          \n",
    "        # Once val data crosses time series length return   \n",
    "        if (((end_ix+n_steps_input)+n_steps_forecast) > len(sequence)):\n",
    "            break\n",
    "        \n",
    "        ## CROSS-VALIDATION DATA\n",
    "        startCv_ix = end_ix;\n",
    "        endCv_ix = end_ix + n_steps_input;\n",
    "        \n",
    "        seq_xcv = sequence[startCv_ix:endCv_ix] \n",
    "        Xcv_it.append(seq_xcv)\n",
    "        seq_ycv = sequence[endCv_ix:endCv_ix+n_steps_forecast]\n",
    "        ycv_it.append(seq_ycv) \n",
    "            \n",
    "        ## Add another train/val split \n",
    "        X[j-2] = np.array(X_it)\n",
    "        y[j-2] = np.array(y_it)\n",
    "        Xcv[j-2] = np.array(Xcv_it)\n",
    "        ycv[j-2] = np.array(ycv_it)\n",
    "        \n",
    "        j+=1;\n",
    "            \n",
    "    return X, y, Xcv, ycv\n",
    "\n",
    "X, y, Xcv, ycv = split_train_cv_forwardChaining(timeSeries, n_steps_input=4, n_steps_forecast=3, n_steps_jump=2)\n",
    "for j in np.arange(10):\n",
    "    print(\"--------- SET %d ---------\" % (j+1))\n",
    "    print(\"X[%d] =\"% (j+1), *X[j])\n",
    "    print(\"y[%d] =\"% (j+1), *y[j])\n",
    "    print(\"Xcv[%d] =\"% (j+1), *Xcv[j])\n",
    "    print(\"ycv[%d] =\"% (j+1), *ycv[j])"
   ]
  },
  {
   "cell_type": "code",
   "execution_count": 49,
   "metadata": {},
   "outputs": [
    {
     "name": "stdout",
     "output_type": "stream",
     "text": [
      "--------- SET 1 ---------\n",
      "X[1] = [0 1 2 3] [2 3 4 5] [10 11 12 13] [12 13 14 15] [14 15 16 17] [16 17 18 19] [18 19 20 21] [20 21 22 23]\n",
      "y[1] = [4 5 6] [6 7 8] [14 15 16] [16 17 18] [18 19 20] [20 21 22] [22 23 24] [24 25 26]\n",
      "Xcv[1] = [6 7 8 9]\n",
      "ycv[1] = [10 11 12]\n",
      "--------- SET 2 ---------\n",
      "X[2] = [0 1 2 3] [2 3 4 5] [4 5 6 7] [12 13 14 15] [14 15 16 17] [16 17 18 19] [18 19 20 21] [20 21 22 23]\n",
      "y[2] = [4 5 6] [6 7 8] [ 8  9 10] [16 17 18] [18 19 20] [20 21 22] [22 23 24] [24 25 26]\n",
      "Xcv[2] = [ 8  9 10 11]\n",
      "ycv[2] = [12 13 14]\n",
      "--------- SET 3 ---------\n",
      "X[3] = [0 1 2 3] [2 3 4 5] [4 5 6 7] [6 7 8 9] [14 15 16 17] [16 17 18 19] [18 19 20 21] [20 21 22 23]\n",
      "y[3] = [4 5 6] [6 7 8] [ 8  9 10] [10 11 12] [18 19 20] [20 21 22] [22 23 24] [24 25 26]\n",
      "Xcv[3] = [10 11 12 13]\n",
      "ycv[3] = [14 15 16]\n"
     ]
    }
   ],
   "source": [
    "def split_train_cv_kFold(sequence, n_steps_input, n_steps_forecast, n_steps_jump):\n",
    "    X, y, Xcv, ycv = dict(), dict(), dict(), dict()\n",
    "    j=2; # Tracks index of CV set at each train/val split\n",
    "    theEnd = 0; # Flag to terminate function\n",
    "    \n",
    "    # Iterate until val set falls outside time series length\n",
    "    while 1:\n",
    "        start_ix=0; end_ix=0; startCv_ix=0; endCv_ix=0;\n",
    "        X_it, y_it, Xcv_it, ycv_it = list(), list(), list(), list()\n",
    "        i=0; # Index of individual training set at each train/val split\n",
    "        n=0; # Number of n_steps_jump\n",
    "        \n",
    "        # Iterate through all train/val splits\n",
    "        while 1:\n",
    "            if (i != j): \n",
    "                ## TRAINING DATA\n",
    "                start_ix = endCv_ix + n_steps_jump*n;\n",
    "                end_ix = start_ix + n_steps_input;\n",
    "                n +=1;\n",
    "\n",
    "                # Leave train/val split loop once training data crosses time series length\n",
    "                if end_ix+n_steps_forecast > len(sequence):\n",
    "                    break;\n",
    "\n",
    "                seq_x = sequence[start_ix:end_ix] \n",
    "                X_it.append(seq_x)\n",
    "                seq_y = sequence[end_ix:end_ix+n_steps_forecast]\n",
    "                y_it.append(seq_y)\n",
    "            else:\n",
    "                ## CROSS-VALIDATION DATA\n",
    "                startCv_ix = end_ix;\n",
    "                endCv_ix = end_ix + n_steps_input;\n",
    "                n = 0;\n",
    "                \n",
    "                # Once val data crosses time series length exit tran/val split loop and return\n",
    "                if endCv_ix+n_steps_forecast > len(sequence):\n",
    "                    theEnd = 1;\n",
    "                    break;\n",
    "\n",
    "                seq_xcv = sequence[startCv_ix:endCv_ix] \n",
    "                Xcv_it.append(seq_xcv)\n",
    "                seq_ycv = sequence[endCv_ix:endCv_ix+n_steps_forecast]\n",
    "                ycv_it.append(seq_ycv)\n",
    "            i+=1;\n",
    "        \n",
    "        # Only add a train/val split if the time series length has not been crossed\n",
    "        if (theEnd == 1):\n",
    "            break\n",
    "        \n",
    "        ## Add another train/val split \n",
    "        X[j-2] = np.array(X_it)\n",
    "        y[j-2] = np.array(y_it)\n",
    "        Xcv[j-2] = np.array(Xcv_it)\n",
    "        ycv[j-2] = np.array(ycv_it)\n",
    "        \n",
    "        j+=1;\n",
    "            \n",
    "    return X, y, Xcv, ycv\n",
    "\n",
    "X, y, Xcv, ycv = split_train_cv_kFold(timeSeries, n_steps_input=4, n_steps_forecast=3, n_steps_jump=2)\n",
    "for j in np.arange(3):\n",
    "    print(\"--------- SET %d ---------\" % (j+1))\n",
    "    print(\"X[%d] =\"% (j+1), *X[j])\n",
    "    print(\"y[%d] =\"% (j+1), *y[j])\n",
    "    print(\"Xcv[%d] =\"% (j+1), *Xcv[j])\n",
    "    print(\"ycv[%d] =\"% (j+1), *ycv[j])"
   ]
  },
  {
   "cell_type": "code",
   "execution_count": 51,
   "metadata": {},
   "outputs": [
    {
     "name": "stdout",
     "output_type": "stream",
     "text": [
      "--------- SET 1 ---------\n",
      "X[1] = [0 1 2 3] [2 3 4 5] [4 5 6 7] [6 7 8 9] [14 15 16 17] [16 17 18 19] [18 19 20 21]\n",
      "y[1] = [4 5 6] [6 7 8] [ 8  9 10] [10 11 12] [18 19 20] [20 21 22] [22 23 24]\n",
      "Xcv[1] = [10 11 12 13]\n",
      "ycv[1] = [14 15 16]\n",
      "--------- SET 2 ---------\n",
      "X[2] = [0 1 2 3] [2 3 4 5] [4 5 6 7] [12 13 14 15] [14 15 16 17] [16 17 18 19] [18 19 20 21]\n",
      "y[2] = [4 5 6] [6 7 8] [ 8  9 10] [16 17 18] [18 19 20] [20 21 22] [22 23 24]\n",
      "Xcv[2] = [ 8  9 10 11]\n",
      "ycv[2] = [12 13 14]\n",
      "--------- SET 3 ---------\n",
      "X[3] = [0 1 2 3] [2 3 4 5] [10 11 12 13] [12 13 14 15] [14 15 16 17] [16 17 18 19]\n",
      "y[3] = [4 5 6] [6 7 8] [14 15 16] [16 17 18] [18 19 20] [20 21 22]\n",
      "Xcv[3] = [6 7 8 9] [20 21 22 23]\n",
      "ycv[3] = [10 11 12] [24 25 26]\n"
     ]
    }
   ],
   "source": [
    "def split_train_cv_groupKFold(sequence, n_steps_input, n_steps_forecast, n_steps_jump):\n",
    "    X, y, Xcv, ycv = dict(), dict(), dict(), dict()\n",
    "    \n",
    "    # Iterate through 5 train/val splits\n",
    "    for j in np.arange(5):\n",
    "        start_ix=0; end_ix=0; startCv_ix=0; endCv_ix=0;\n",
    "        X_it, y_it, Xcv_it, ycv_it = list(), list(), list(), list()\n",
    "        i=0; # Index of individual training set at each train/val split\n",
    "        n=0; # Number of n_steps_jump\n",
    "        \n",
    "        while 1: \n",
    "            if ((i+1+j)%(5) != 0):\n",
    "                # TRAINING DATA\n",
    "                start_ix = endCv_ix + n_steps_jump*n;\n",
    "                end_ix = start_ix + n_steps_input;\n",
    "                n+=1;\n",
    "\n",
    "                # Leave train/val split loop once training data crosses time series length\n",
    "                if end_ix+n_steps_forecast > len(sequence)-1:\n",
    "                    break \n",
    "\n",
    "                seq_x = sequence[start_ix:end_ix] \n",
    "                X_it.append(seq_x)\n",
    "                seq_y = sequence[end_ix:end_ix+n_steps_forecast]\n",
    "                y_it.append(seq_y)\n",
    "            else:\n",
    "                # CROSS-VALIDATION DATA\n",
    "                startCv_ix = end_ix;\n",
    "                endCv_ix = end_ix + n_steps_input;\n",
    "                n=0;\n",
    "\n",
    "                # Once val data crosses time series length return   \n",
    "                if ((endCv_ix+n_steps_forecast) > len(sequence)):\n",
    "                    break\n",
    "\n",
    "                seq_xcv = sequence[startCv_ix:endCv_ix] \n",
    "                Xcv_it.append(seq_xcv)\n",
    "                seq_ycv = sequence[endCv_ix:endCv_ix+n_steps_forecast]\n",
    "                ycv_it.append(seq_ycv)  \n",
    "                \n",
    "            i+=1;\n",
    "            \n",
    "        ## Add another train/val split     \n",
    "        X[j] = np.array(X_it)\n",
    "        y[j] = np.array(y_it)\n",
    "        Xcv[j] = np.array(Xcv_it)\n",
    "        ycv[j] = np.array(ycv_it)\n",
    "            \n",
    "    return X, y, Xcv, ycv\n",
    "\n",
    "X, y, Xcv, ycv = split_train_cv_groupKFold(timeSeries, n_steps_input=4, n_steps_forecast=3, n_steps_jump=2)\n",
    "for j in np.arange(3):\n",
    "    print(\"--------- SET %d ---------\" % (j+1))\n",
    "    print(\"X[%d] =\"% (j+1), *X[j])\n",
    "    print(\"y[%d] =\"% (j+1), *y[j])\n",
    "    print(\"Xcv[%d] =\"% (j+1), *Xcv[j])\n",
    "    print(\"ycv[%d] =\"% (j+1), *ycv[j])"
   ]
  },
  {
   "cell_type": "code",
   "execution_count": 3,
   "metadata": {
    "scrolled": false
   },
   "outputs": [
    {
     "data": {
      "image/png": "[encoded data removed]",
      "text/plain": [
       "<Figure size 1440x936 with 1 Axes>"
      ]
     },
     "metadata": {},
     "output_type": "display_data"
    }
   ],
   "source": [
    "import matplotlib.pyplot as plt\n",
    "import matplotlib.patches as patches\n",
    "from matplotlib.lines import Line2D\n",
    "# Plot original time series in usage\n",
    "fig, ax = plt.subplots(figsize=(20, 13))\n",
    "ax.plot(timeSeries, len(timeSeries) * [len(X)-0.75], lw=3, c='k')\n",
    "k = 1./max([len(x)+2 for x in X.values()])\n",
    "numSets = len(X)\n",
    "# Loop through train/val sets\n",
    "for i in np.arange(numSets):\n",
    "    sorted_arr = np.sort(np.array([x[0] for x in np.concatenate((X[i], Xcv[i]), axis=0)]))\n",
    "    # Loop through training sets\n",
    "    for j in np.arange(len(X[i])):\n",
    "        level = sum(sorted_arr<X[i][j][0])\n",
    "        plt.plot(X[i][j], len(X[i][j]) * [numSets-i-1-k*level], lw=3, c='blue')\n",
    "        plt.plot([X[i][j][-1], y[i][j][0]], 2*[numSets-i-1-k*level], lw=1, c='blue')\n",
    "        plt.plot(y[i][j], len(y[i][j]) * [numSets-i-1-k*level], lw=3, c='lightblue')\n",
    "    # Loop through cross-validation sets\n",
    "    for j in np.arange(len(Xcv[i])):\n",
    "        level = sum(sorted_arr<Xcv[i][j][0])\n",
    "        plt.plot(Xcv[i][j], len(Xcv[i][j]) * [numSets-i-1-k*level], lw=3, c='red')\n",
    "        plt.plot([Xcv[i][j][-1], ycv[i][j][0]], 2*[numSets-i-1-k*level], lw=1, c='red')\n",
    "        plt.plot(ycv[i][j], len(ycv[i][j]) * [numSets-i-1-k*level], lw=3, c='tomato')\n",
    "    rect = patches.Rectangle((0, len(X)-i-1), len(timeSeries)-1, k*(-len(sorted_arr)+1), \n",
    "                             ls='-.', linewidth=1, edgecolor='k',facecolor='lavender')\n",
    "    ax.add_patch(rect)\n",
    "ax.grid(which='minor')\n",
    "ax.set_yticks(np.arange(len(X), 0, -1)-1)\n",
    "ax.set_yticklabels(np.arange(1, len(X)+1, 1))\n",
    "ax.set_ylabel(\"Train and validation set\", size=16)\n",
    "custom_lines = [Line2D([0], [0], color='k', lw=4),    patches.Patch(facecolor='lavender', edgecolor='k'),\n",
    "                Line2D([0], [0], color='blue', lw=4), Line2D([0], [0], color='lightblue', lw=4),\n",
    "                Line2D([0], [0], color='red', lw=4),  Line2D([0], [0], color='tomato', lw=4)]\n",
    "ax.legend(custom_lines, ['Original Time-Series', 'Train and Validation set', \n",
    "                         'X (Train input)', 'y (Train output)', \n",
    "                         'Xcv (Cross-validation input)', 'ycv (Cross-validation output)'], \n",
    "          loc='upper center', ncol=3, handleheight=2.4, labelspacing=0.05)\n",
    "ax.set_ylim([-1.5, len(X)])\n",
    "ax.set_title('Group K-Fold', size=18);\n",
    "plt.show()"
   ]
  },
  {
   "cell_type": "code",
   "execution_count": 3,
   "metadata": {},
   "outputs": [
    {
     "name": "stdout",
     "output_type": "stream",
     "text": [
      "4 June 1995\n"
     ]
    }
   ],
   "source": [
    "from TimeSeriesCrossValidation.splitTrainValTest import didier_birthday, split_train_cv_forwardChaining\n",
    "didier_birthday()"
   ]
  },
  {
   "cell_type": "code",
   "execution_count": 8,
   "metadata": {
    "collapsed": true
   },
   "outputs": [],
   "source": [
    "?np.arange"
   ]
  },
  {
   "cell_type": "code",
   "execution_count": 7,
   "metadata": {
    "collapsed": true
   },
   "outputs": [],
   "source": [
    "?didier_birthday"
   ]
  },
  {
   "cell_type": "code",
   "execution_count": null,
   "metadata": {
    "collapsed": true
   },
   "outputs": [],
   "source": []
  }
 ],
 "metadata": {
  "kernelspec": {
   "display_name": "Python 2",
   "language": "python",
   "name": "python2"
  },
  "language_info": {
   "codemirror_mode": {
    "name": "ipython",
    "version": 3
   },
   "file_extension": ".py",
   "mimetype": "text/x-python",
   "name": "python",
   "nbconvert_exporter": "python",
   "pygments_lexer": "ipython3",
   "version": "3.6.8"
  }
 },
 "nbformat": 4,
 "nbformat_minor": 2
}
