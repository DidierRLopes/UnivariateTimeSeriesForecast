{
 "cells": [
  {
   "cell_type": "markdown",
   "metadata": {},
   "source": [
    "# Imports and Defines"
   ]
  },
  {
   "cell_type": "markdown",
   "metadata": {},
   "source": [
    "## Imports\n",
    "    Imports all modules and submodules that were necessary for this study.\n",
    "    Special mention to TimeSeriesCrossValidation which was created with the purpose to be used in this thesis (https://github.com/DidierRLopes/TimeSeriesCrossValidation)"
   ]
  },
  {
   "cell_type": "code",
   "execution_count": 1,
   "metadata": {},
   "outputs": [],
   "source": [
    "import numpy as np\n",
    "import pandas as pd\n",
    "import pandas_datareader as dr\n",
    "import matplotlib.pyplot as plt\n",
    "import scipy.stats as stats\n",
    "import statsmodels.api as sm\n",
    "import matplotlib.gridspec as gridspec\n",
    "import seaborn as sns\n",
    "import ast\n",
    "import matplotlib.pyplot as plt\n",
    "import matplotlib.patches as patches\n",
    "\n",
    "from TimeSeriesCrossValidation import splitTrain\n",
    "from matplotlib.lines import Line2D\n",
    "from collections import OrderedDict\n",
    "from statsmodels.tsa.arima_model import ARIMA\n",
    "from statsmodels.tsa.stattools import adfuller, kpss, bds\n",
    "from scipy.stats import skewtest, kurtosistest, skew, kurtosis\n",
    "from statsmodels.graphics.tsaplots import plot_acf, plot_pacf\n",
    "from statsmodels.stats.diagnostic import het_arch, acorr_ljungbox, acorr_breusch_godfrey\n",
    "from statsmodels.graphics.gofplots import qqplot\n",
    "from statsmodels.tsa.seasonal import seasonal_decompose\n",
    "\n",
    "import warnings\n",
    "warnings.filterwarnings(\"ignore\")"
   ]
  },
  {
   "cell_type": "markdown",
   "metadata": {},
   "source": [
    "## Define Functions\n",
    "    Defines helper functions"
   ]
  },
  {
   "cell_type": "code",
   "execution_count": 2,
   "metadata": {},
   "outputs": [],
   "source": [
    "# Parse string into tuple\n",
    "def parse_tuple(string):\n",
    "    try:\n",
    "        s = ast.literal_eval(str(string))\n",
    "        if type(s) == tuple:\n",
    "            return s\n",
    "        return\n",
    "    except:\n",
    "        return"
   ]
  },
  {
   "cell_type": "code",
   "execution_count": 3,
   "metadata": {},
   "outputs": [],
   "source": [
    "# Compute MAE over an array of different horizons\n",
    "def horizon_mae(y_true, y_pred, horizonSteps):\n",
    "    ae  = abs(y_pred - y_true.T);\n",
    "    list_MAE = list()\n",
    "    for i in horizonSteps:\n",
    "        list_MAE.append(round(np.mean(ae[0,:i]), 2))\n",
    "    return list_MAE;"
   ]
  },
  {
   "cell_type": "code",
   "execution_count": 4,
   "metadata": {},
   "outputs": [],
   "source": [
    "# Define Mean Absolute Percentage Error\n",
    "def absolute_percentage_error(y_true, y_pred):\n",
    "    if (len(y_true[y_true == 0])):\n",
    "        print(\"Division by zero!\")\n",
    "        return None;\n",
    "    else:\n",
    "        return 100*(abs((y_pred - y_true.T) / y_true.T));"
   ]
  },
  {
   "cell_type": "code",
   "execution_count": 5,
   "metadata": {},
   "outputs": [],
   "source": [
    "# Compute MAPE over an array of different horizons\n",
    "def horizon_mape(y_true, y_pred, horizonSteps):\n",
    "    ape = absolute_percentage_error(y_true, y_pred);\n",
    "    if ape is not None:\n",
    "        list_MAPE = list()\n",
    "        for i in horizonSteps:\n",
    "            list_MAPE.append(round(np.mean(ape[0,:i]), 2))\n",
    "        return list_MAPE;"
   ]
  },
  {
   "cell_type": "code",
   "execution_count": 6,
   "metadata": {},
   "outputs": [],
   "source": [
    "# Evaluate combinations of p, d and q values for an ARIMA model\n",
    "def ARIMA_grid(dataset, arimaCfg, isLog):\n",
    "    df_IC = pd.DataFrame( columns=['ARIMA(p, d, q)', 'AIC', 'BIC', 'HQIC'])\n",
    "    df_IC = df_IC.set_index('ARIMA(p, d, q)')\n",
    "    dict_arimaFit  = {} \n",
    "    dict_arimaPred = {} \n",
    "    modelNum = 0;\n",
    "    totalModelNum = len(arimaCfg.p_range)*len(arimaCfg.d_range)*len(arimaCfg.q_range)\n",
    "    for p in arimaCfg.p_range:\n",
    "        for d in arimaCfg.d_range:\n",
    "            for q in arimaCfg.q_range:\n",
    "                order = (p,d,q)\n",
    "                modelNum+=1;\n",
    "                print(\"%d/%d \" % (modelNum, totalModelNum))\n",
    "\n",
    "                try:\n",
    "                    model = ARIMA(dataset, order=order);\n",
    "                    model_fit = model.fit(disp=0);\n",
    "                    \n",
    "                    if (~np.isnan(model_fit.mle_retvals.get('fopt'))):\n",
    "                        \n",
    "                        model_str = 'ARIMA' + str(order)\n",
    "                        df_IC = df_IC.append(pd.DataFrame({'AIC':model_fit.aic, 'BIC':model_fit.bic, \\\n",
    "                                                           'HQIC':model_fit.hqic}, index =[model_str]), ignore_index=False)\n",
    "\n",
    "                        if (isLog):\n",
    "                            dict_arimaFit[model_str]  = np.e**(model_fit.predict(typ='levels'));\n",
    "                            dict_arimaPred[model_str] = np.e**(model_fit.forecast(steps=stepsToForecast[-1])[0]);\n",
    "                        else:\n",
    "                            dict_arimaFit[model_str]  = model_fit.predict(typ='levels');\n",
    "                            dict_arimaPred[model_str] = model_fit.forecast(steps=stepsToForecast[-1])[0];\n",
    "                except:\n",
    "                    continue\n",
    "    return dict_arimaFit, dict_arimaPred, df_IC"
   ]
  },
  {
   "cell_type": "markdown",
   "metadata": {},
   "source": [
    "## Define Univariate Time-Series\n",
    "    df: Dataframe with an index and a value column\n",
    "    title: Title of data being used\n",
    "    serie: Serie 'Name'\n",
    "    xlab: Label of df.index\n",
    "    ylab: Label of df.values\n",
    "    \n",
    "    stepsToForecast: Steps to forecast out-of-sample (and in-sample)"
   ]
  },
  {
   "cell_type": "code",
   "execution_count": 7,
   "metadata": {},
   "outputs": [],
   "source": [
    "previousStepsToShow = 15;\n",
    "\n",
    "stepsToForecast = [1, 3, 12]\n",
    "df = dr.DataReader('CPIAUCSL', \"fred\", start='1947-01-01', end='2019-09-01')\n",
    "df_train = df[['CPIAUCSL']][:-stepsToForecast[-1]].rename(columns={'CPIAUCSL': 'train'})\n",
    "df_test = df[['CPIAUCSL']][-stepsToForecast[-1]:].rename(columns={'CPIAUCSL': 'test'})\n",
    "title = \"CPIAUCSL: All Items in U.S. City Average\"\n",
    "serie = \"CPIAUCSL\"\n",
    "xlab = \"Months/Year\"; \n",
    "ylab = \"Consumer Price Index\";\n",
    "\n",
    "#stepsToForecast = [1, 5, 21]\n",
    "#df = pd.read_csv(\"PSI_20_Data_1992_Stooq.csv\") \n",
    "#df = pd.DataFrame(df, columns= ['Date','Close'])\n",
    "#df.set_index('Date', drop=True, inplace=True)\n",
    "#df.index = pd.to_datetime(df.index)\n",
    "#df = df.truncate(before='2002-01-01', after='2019-09-27')\n",
    "#df_train = df[['Close']][:-stepsToForecast[-1]].rename(columns={'Close': 'train'})\n",
    "#df_test = df[['Close']][-stepsToForecast[-1]:].rename(columns={'Close': 'test'})\n",
    "#title = 'PSI20: Historical Closing Prices'\n",
    "#serie = \"PSI20\"\n",
    "#xlab = 'Business Days/Year'; \n",
    "#ylab = 'Closing Price (Euro)';\n",
    "\n",
    "#stepsToForecast = [1, 5, 21]\n",
    "#df = dr.data.get_data_yahoo('SPY', start= '1993-01-01', end='2019-09-27')\n",
    "#df_train = df[['Close']][:-stepsToForecast[-1]].rename(columns={'Close': 'train'})\n",
    "#df_test = df[['Close']][-stepsToForecast[-1]:].rename(columns={'Close': 'test'})\n",
    "#title = 'SPY: Historical Closing Prices'\n",
    "#serie = \"SPY\"\n",
    "#xlab = 'Business Days/Year'; \n",
    "#ylab = 'Closing Price (Dollar)';"
   ]
  },
  {
   "cell_type": "markdown",
   "metadata": {},
   "source": [
    "# Stationarity of the Time-Series"
   ]
  },
  {
   "cell_type": "markdown",
   "metadata": {},
   "source": [
    "## Data transformation and its graphical representation\n",
    "    This section allows to understand the representation of the series after its transformation to achieve stationarity\n",
    "\n",
    "    Box-Cox transformations such as the logarithmic one can help to stabilise the variance of a time series. \n",
    "    Differencing can help stabilise the mean of a time series by removing changes in the level of a time series, and therefore eliminating (or reducing) trend and seasonality.\n",
    "    Note: The order Box-Cox transformation, and then, differencing, is important!"
   ]
  },
  {
   "cell_type": "code",
   "execution_count": 8,
   "metadata": {
    "scrolled": false
   },
   "outputs": [
    {
     "data": {
      "image/png": "[encoded data removed]",
      "text/plain": [
       "<Figure size 1440x720 with 4 Axes>"
      ]
     },
     "metadata": {
      "needs_background": "light"
     },
     "output_type": "display_data"
    }
   ],
   "source": [
    "fig = plt.figure(figsize=(20,10))\n",
    "\n",
    "fig.add_subplot(221)\n",
    "plt.title(serie + ' (Time Series)')\n",
    "plt.plot(df_train)\n",
    "plt.xlabel(xlab)\n",
    "plt.ylabel(ylab)\n",
    "plt.grid()\n",
    "\n",
    "fig.add_subplot(222)\n",
    "plt.title('Log(' + serie + ')')\n",
    "plt.plot(np.log(df_train))\n",
    "plt.xlabel(xlab)\n",
    "plt.ylabel(ylab)\n",
    "plt.grid()\n",
    "\n",
    "fig.add_subplot(223)\n",
    "plt.title('Dif(' + serie + ')')\n",
    "plt.plot(df_train.diff().dropna())\n",
    "plt.xlabel(xlab)\n",
    "plt.ylabel(ylab)\n",
    "plt.grid()\n",
    "\n",
    "fig.add_subplot(224)\n",
    "plt.title('DifLog(' + serie + ')')\n",
    "plt.plot(np.log(df_train).diff().dropna())\n",
    "plt.xlabel(xlab)\n",
    "plt.ylabel(ylab)\n",
    "plt.grid()\n",
    "\n",
    "plt.show()"
   ]
  },
  {
   "cell_type": "markdown",
   "metadata": {},
   "source": [
    "## Normality tests"
   ]
  },
  {
   "cell_type": "markdown",
   "metadata": {},
   "source": [
    "### Jarque-Bera test\n",
    "    Perform the Jarque-Bera goodness of fit test on sample data.\n",
    "    The Jarque-Bera test tests whether the sample data has the skewness and kurtosis matching a normal distribution."
   ]
  },
  {
   "cell_type": "code",
   "execution_count": 9,
   "metadata": {},
   "outputs": [
    {
     "name": "stdout",
     "output_type": "stream",
     "text": [
      "Jarque-Bera Test for CPIAUCSL\n",
      "Statistic: 84.5851\n",
      "p-value: 0.0000\n",
      "\n",
      "Jarque-Bera Test for Log(CPIAUCSL)\n",
      "Statistic: 93.6137\n",
      "p-value: 0.0000\n",
      "\n",
      "Jarque-Bera Test for Diff(CPIAUCSL)\n",
      "Statistic: 13697.3443\n",
      "p-value: 0.0000\n",
      "\n",
      "Jarque-Bera Test for Diff(Log(CPIAUCSL))\n",
      "Statistic: 671.0790\n",
      "p-value: 0.0000\n"
     ]
    }
   ],
   "source": [
    "jb, jbpval = stats.jarque_bera(df_train)\n",
    "print(\"Jarque-Bera Test for \" + serie)\n",
    "print(\"Statistic: %.4f\" % jb)\n",
    "print(\"p-value: %.4f\" % jbpval)\n",
    "print(\"\")\n",
    "jb, jbpval = stats.jarque_bera(np.log(df_train))\n",
    "print(\"Jarque-Bera Test for Log(\" + serie + \")\")\n",
    "print(\"Statistic: %.4f\" % jb)\n",
    "print(\"p-value: %.4f\" % jbpval)\n",
    "print(\"\")\n",
    "jb, jbpval = stats.jarque_bera(df_train.diff().dropna())\n",
    "print(\"Jarque-Bera Test for Diff(\" + serie + \")\")\n",
    "print(\"Statistic: %.4f\" % jb)\n",
    "print(\"p-value: %.4f\" % jbpval)\n",
    "print(\"\")\n",
    "jb, jbpval = stats.jarque_bera(np.log(df_train).diff().dropna())\n",
    "print(\"Jarque-Bera Test for Diff(Log(\" + serie + \"))\")\n",
    "print(\"Statistic: %.4f\" % jb)\n",
    "print(\"p-value: %.4f\" % jbpval) "
   ]
  },
  {
   "cell_type": "markdown",
   "metadata": {},
   "source": [
    "### Kolmogorov-Smirnov test\n",
    "    Perform the Kolmogorov-Smirnov test for goodness of fit.\n",
    "    This performs a test of the distribution G(x) of an observed random variable against a given distribution F(x). Under the null hypothesis the two distributions are identical, G(x)=F(x). The alternative hypothesis can be either 'two-sided' (default), 'less' or 'greater'. The KS test is only valid for continuous distributions."
   ]
  },
  {
   "cell_type": "code",
   "execution_count": 10,
   "metadata": {},
   "outputs": [
    {
     "name": "stdout",
     "output_type": "stream",
     "text": [
      "Kolmogorov-Smirnov Test for CPIAUCSL\n",
      "Statistic: 1.0000\n",
      "p-value: 0.0000\n",
      "\n",
      "Kolmogorov-Smirnov Test for Log(CPIAUCSL)\n",
      "Statistic: 1.0000\n",
      "p-value: 0.0000\n",
      "\n",
      "Kolmogorov-Smirnov Test for Diff(CPIAUCSL)\n",
      "Statistic: 0.9999\n",
      "p-value: 0.0000\n",
      "\n",
      "Kolmogorov-Smirnov Test for Diff(Log(CPIAUCSL))\n",
      "Statistic: 0.5078\n",
      "p-value: 0.0000\n"
     ]
    }
   ],
   "source": [
    "ks, kspval = stats.kstest(df_train.values, 'norm')\n",
    "print(\"Kolmogorov-Smirnov Test for \" + serie)\n",
    "print(\"Statistic: %.4f\" % ks)\n",
    "print(\"p-value: %.4f\" % kspval)  \n",
    "print(\"\")\n",
    "ks, kspval = stats.kstest(np.log(df_train), 'norm')\n",
    "print(\"Kolmogorov-Smirnov Test for Log(\" + serie + \")\")\n",
    "print(\"Statistic: %.4f\" % ks)\n",
    "print(\"p-value: %.4f\" % kspval)\n",
    "print(\"\")\n",
    "ks, kspval = stats.kstest(df_train.diff().dropna(), 'norm')\n",
    "print(\"Kolmogorov-Smirnov Test for Diff(\" + serie + \")\")\n",
    "print(\"Statistic: %.4f\" % ks)\n",
    "print(\"p-value: %.4f\" % kspval)\n",
    "print(\"\")\n",
    "ks, kspval = stats.kstest(np.log(df_train).diff().dropna(), 'norm')\n",
    "print(\"Kolmogorov-Smirnov Test for Diff(Log(\" + serie + \"))\")\n",
    "print(\"Statistic: %.4f\" % ks)\n",
    "print(\"p-value: %.4f\" % kspval) "
   ]
  },
  {
   "cell_type": "markdown",
   "metadata": {},
   "source": [
    "## Unit Root and Stationarity Tests"
   ]
  },
  {
   "cell_type": "markdown",
   "metadata": {},
   "source": [
    "### The Augmented Dickey-Fuller test \n",
    "    Augmented Dickey-Fuller unit root test.\n",
    "    The Augmented Dickey-Fuller test can be used to test for a unit root in a univariate process in the presence of serial correlation."
   ]
  },
  {
   "cell_type": "code",
   "execution_count": 11,
   "metadata": {},
   "outputs": [
    {
     "name": "stdout",
     "output_type": "stream",
     "text": [
      "Augmented Dickey Fuller Test for CPIAUCSL\n",
      "Statistic: 2.2461\n",
      "p-value: 0.9989\n",
      "Used lags: 15\n",
      "Num obs: 845\n",
      "Critical Values:\n",
      "\t1%: -3.438\n",
      "\t5%: -2.865\n",
      "\t10%: -2.569\n",
      "\n",
      "Augmented Dickey Fuller Test for Log(CPIAUCSL)\n",
      "Statistic: -0.2828\n",
      "p-value: 0.9279\n",
      "Used lags: 15\n",
      "Num obs: 845\n",
      "Critical Values:\n",
      "\t1%: -3.438\n",
      "\t5%: -2.865\n",
      "\t10%: -2.569\n",
      "\n",
      "Augmented Dickey Fuller Test for Diff(CPIAUCSL)\n",
      "Statistic: -3.4513\n",
      "p-value: 0.0093\n",
      "Used lags: 16\n",
      "Num obs: 843\n",
      "Critical Values:\n",
      "\t1%: -3.438\n",
      "\t5%: -2.865\n",
      "\t10%: -2.569\n",
      "\n",
      "Augmented Dickey Fuller Test for Diff(Log(CPIAUCSL))\n",
      "Statistic: -4.2976\n",
      "p-value: 0.0004\n",
      "Used lags: 14\n",
      "Num obs: 845\n",
      "Critical Values:\n",
      "\t1%: -3.438\n",
      "\t5%: -2.865\n",
      "\t10%: -2.569\n"
     ]
    }
   ],
   "source": [
    "result = adfuller(df_train['train'].values, regression='c')\n",
    "print(\"Augmented Dickey Fuller Test for \" + serie)\n",
    "print(\"Statistic: %.4f\" % result[0])\n",
    "print(\"p-value: %.4f\" % result[1])\n",
    "print(\"Used lags: %d\" % result[2])\n",
    "print(\"Num obs: %d\" % result[3])\n",
    "print(\"Critical Values:\")\n",
    "d = OrderedDict(sorted(result[4].items(), key=lambda t: t[1]))\n",
    "for key, value in d.items():\n",
    "    print(\"\\t%s: %.3f\" % (key, value))\n",
    "print(\"\")\n",
    "result = adfuller(np.log(df_train['train'].values), regression='c')\n",
    "print(\"Augmented Dickey Fuller Test for Log(\" + serie + \")\")\n",
    "print(\"Statistic: %.4f\" % result[0])\n",
    "print(\"p-value: %.4f\" % result[1])\n",
    "print(\"Used lags: %d\" % result[2])\n",
    "print(\"Num obs: %d\" % result[3])\n",
    "print(\"Critical Values:\")\n",
    "d = OrderedDict(sorted(result[4].items(), key=lambda t: t[1]))\n",
    "for key, value in d.items():\n",
    "    print(\"\\t%s: %.3f\" % (key, value))\n",
    "print(\"\")\n",
    "result = adfuller(df_train['train'].diff().dropna(), regression='c')\n",
    "print(\"Augmented Dickey Fuller Test for Diff(\" + serie + \")\")\n",
    "print(\"Statistic: %.4f\" % result[0])\n",
    "print(\"p-value: %.4f\" % result[1])\n",
    "print(\"Used lags: %d\" % result[2])\n",
    "print(\"Num obs: %d\" % result[3])\n",
    "print(\"Critical Values:\")\n",
    "d = OrderedDict(sorted(result[4].items(), key=lambda t: t[1]))\n",
    "for key, value in d.items():\n",
    "    print (\"\\t%s: %.3f\" % (key, value))\n",
    "print(\"\")\n",
    "result = adfuller(np.log(df_train['train']).diff().dropna().values, regression='c')\n",
    "print(\"Augmented Dickey Fuller Test for Diff(Log(\" + serie + \"))\")\n",
    "print(\"Statistic: %.4f\" % result[0])\n",
    "print(\"p-value: %.4f\" % result[1])\n",
    "print(\"Used lags: %d\" % result[2])\n",
    "print(\"Num obs: %d\" % result[3])\n",
    "print(\"Critical Values:\")\n",
    "d = OrderedDict(sorted(result[4].items(), key=lambda t: t[1]))\n",
    "for key, value in d.items():\n",
    "    print(\"\\t%s: %.3f\" % (key, value))"
   ]
  },
  {
   "cell_type": "markdown",
   "metadata": {},
   "source": [
    "### Kwiatkowski-Phillips-Schmidt-Shin test\n",
    "    Kwiatkowski-Phillips-Schmidt-Shin test for stationarity.\n",
    "    Computes the Kwiatkowski-Phillips-Schmidt-Shin (KPSS) test for the null hypothesis that x is level or trend stationary."
   ]
  },
  {
   "cell_type": "code",
   "execution_count": 12,
   "metadata": {},
   "outputs": [
    {
     "name": "stdout",
     "output_type": "stream",
     "text": [
      "Kwiatkowski-Phillips-Schmidt-Shin Test for CPIAUCSL\n",
      "Statistic: 3.9140\n",
      "Critical Values:\n",
      "\t1%: 0.739\n",
      "\t2.5%: 0.574\n",
      "\t5%: 0.463\n",
      "\t10%: 0.347\n",
      "\n",
      "Kwiatkowski-Phillips-Schmidt-Shin Test for Log(CPIAUCSL)\n",
      "Statistic: 3.9986\n",
      "Critical Values:\n",
      "\t1%: 0.739\n",
      "\t2.5%: 0.574\n",
      "\t5%: 0.463\n",
      "\t10%: 0.347\n",
      "\n",
      "Kwiatkowski-Phillips-Schmidt-Shin Test for Diff(CPIAUCSL)\n",
      "Statistic: 1.7887\n",
      "Critical Values:\n",
      "\t1%: 0.739\n",
      "\t2.5%: 0.574\n",
      "\t5%: 0.463\n",
      "\t10%: 0.347\n",
      "\n",
      "Kwiatkowski-Phillips-Schmidt-Shin Test for Diff(Log(CPIAUCSL))\n",
      "Statistic: 0.4687\n",
      "Critical Values:\n",
      "\t1%: 0.739\n",
      "\t2.5%: 0.574\n",
      "\t5%: 0.463\n",
      "\t10%: 0.347\n"
     ]
    }
   ],
   "source": [
    "result = kpss(df_train['train'].values, regression='c')\n",
    "print(\"Kwiatkowski-Phillips-Schmidt-Shin Test for \" + serie)\n",
    "print(\"Statistic: %.4f\" % result[0])\n",
    "print(\"Critical Values:\")\n",
    "d = OrderedDict(sorted(result[3].items(), key=lambda t: t[1], reverse=True))\n",
    "for key, value in d.items():\n",
    "    print(\"\\t%s: %.3f\" % (key, value));\n",
    "print(\"\")\n",
    "result = kpss(np.log(df_train['train'].values), regression='c')\n",
    "print(\"Kwiatkowski-Phillips-Schmidt-Shin Test for Log(\" + serie + \")\")\n",
    "print(\"Statistic: %.4f\" % result[0])\n",
    "print(\"Critical Values:\")\n",
    "d = OrderedDict(sorted(result[3].items(), key=lambda t: t[1], reverse=True))\n",
    "for key, value in d.items():\n",
    "    print(\"\\t%s: %.3f\" % (key, value));\n",
    "print(\"\")\n",
    "result = kpss(df_train['train'].diff().dropna(), regression='c')\n",
    "print(\"Kwiatkowski-Phillips-Schmidt-Shin Test for Diff(\" + serie + \")\")\n",
    "print(\"Statistic: %.4f\" % result[0])\n",
    "print(\"Critical Values:\")\n",
    "d = OrderedDict(sorted(result[3].items(), key=lambda t: t[1], reverse=True))\n",
    "for key, value in d.items():\n",
    "    print(\"\\t%s: %.3f\" % (key, value));\n",
    "print(\"\")\n",
    "result = kpss(np.log(df_train['train']).diff().dropna().values, regression='c')\n",
    "print(\"Kwiatkowski-Phillips-Schmidt-Shin Test for Diff(Log(\" + serie + \"))\")\n",
    "print(\"Statistic: %.4f\" % result[0])\n",
    "print(\"Critical Values:\")\n",
    "d = OrderedDict(sorted(result[3].items(), key=lambda t: t[1], reverse=True))\n",
    "for key, value in d.items():\n",
    "    print(\"\\t%s: %.3f\" % (key, value));"
   ]
  },
  {
   "cell_type": "markdown",
   "metadata": {},
   "source": [
    "## Correlation plots\n",
    "    These plots are useful for identifying non-stationary time series \n",
    "\n",
    "    This also gives an idea of the order of the model by:\n",
    "        AR(p) - p from the partial autocorrelation plot\n",
    "        I(d)  - d from the number of Diffs your dataset is using\n",
    "        MA(q) - q from the autocorrelation plot"
   ]
  },
  {
   "cell_type": "code",
   "execution_count": 13,
   "metadata": {},
   "outputs": [
    {
     "data": {
      "image/png": "[encoded data removed]",
      "text/plain": [
       "<Figure size 1440x1080 with 8 Axes>"
      ]
     },
     "metadata": {
      "needs_background": "light"
     },
     "output_type": "display_data"
    }
   ],
   "source": [
    "maxLags = 40\n",
    "\n",
    "fig = plt.figure(figsize=(20,15), constrained_layout=True)\n",
    "spec = gridspec.GridSpec(ncols=2, nrows=4, figure=fig)\n",
    "\n",
    "# Auto-correlation function for original time series\n",
    "ax_acf = fig.add_subplot(spec[0, 0])\n",
    "sm.graphics.tsa.plot_acf(df_train, lags=maxLags, ax=ax_acf, title='Autocorrelations (' + serie + ')')\n",
    "# Partial auto-correlation function for original time series\n",
    "ax_pacf = fig.add_subplot(spec[1, 0])\n",
    "sm.graphics.tsa.plot_pacf(df_train, lags=maxLags, ax=ax_pacf, title='Partial Autocorrelations (' + serie + ')');\n",
    "\n",
    "# Auto-correlation function for time series transformed with Log\n",
    "ax_acfLog = fig.add_subplot(spec[0, 1])\n",
    "sm.graphics.tsa.plot_acf(np.log(df_train), lags=maxLags, ax=ax_acfLog, title='Autocorrelation with Log('+ serie + ')')\n",
    "# Partial auto-correlation function for time series transformed with Log\n",
    "ax_pacfLog = fig.add_subplot(spec[1, 1])\n",
    "sm.graphics.tsa.plot_pacf(np.log(df_train), lags=maxLags, ax=ax_pacfLog, title='Partial Autocorrelation with Log('+ serie + ')');\n",
    "\n",
    "# Auto-correlation function for time series transformed with Diff\n",
    "ax_acfDiff = fig.add_subplot(spec[2, 0])\n",
    "sm.graphics.tsa.plot_acf(df_train.diff().dropna(), lags=maxLags, ax=ax_acfDiff, title='Autocorrelation with Diff('+ serie + ')')\n",
    "# Partial auto-correlation function for time series transformed with Diff\n",
    "ax_pacfDiff = fig.add_subplot(spec[3, 0])\n",
    "sm.graphics.tsa.plot_pacf(df_train.diff().dropna(), lags=maxLags, ax=ax_pacfDiff, title='Partial Autocorrelation with Diff('+ serie + ')');\n",
    "\n",
    "# Auto-correlation function for time series transformed with Log\n",
    "ax_acfDiffLog = fig.add_subplot(spec[2, 1])\n",
    "sm.graphics.tsa.plot_acf(np.log(df_train).diff().dropna(), lags=maxLags, ax=ax_acfDiffLog, title='Autocorrelation with Diff(Log('+ serie + '))')\n",
    "# Partial auto-correlation function for time series transformed with Log\n",
    "ax_pacfDiffLog = fig.add_subplot(spec[3, 1])\n",
    "sm.graphics.tsa.plot_pacf(np.log(df_train).diff().dropna(), lags=maxLags, ax=ax_pacfDiffLog, title='Partial Autocorrelation with Diff(Log('+ serie + '))');\n",
    "\n",
    "plt.show()"
   ]
  },
  {
   "cell_type": "markdown",
   "metadata": {},
   "source": [
    "# ARIMA Selection"
   ]
  },
  {
   "cell_type": "markdown",
   "metadata": {},
   "source": [
    "## Pre-processing\n",
    "    From now on, we must choose whether we go with the Log(Time-Series) or not. This should be done to remove stationarity of the data, so that ARIMA can work. In addition, if the model is multiplicative we need to use log to make it additive as ARIMA relies on that assumption. The previously seen differentiated data enters in the I component of the ARIMA model it will take care of differenciating for us."
   ]
  },
  {
   "cell_type": "code",
   "execution_count": 14,
   "metadata": {},
   "outputs": [],
   "source": [
    "isLog = True\n",
    "\n",
    "if (isLog):\n",
    "    df_Train = pd.DataFrame(np.log(df_train), index = df_train.index).copy()\n",
    "else:\n",
    "    df_Train = df_train.copy()"
   ]
  },
  {
   "cell_type": "markdown",
   "metadata": {},
   "source": [
    "## Model training\n",
    "    In this section we will train several ARIMA models based on distinct (p,d,q) combinations.\n",
    "    Not only train but also forecast, and extract their AIC, BIC and HQIC."
   ]
  },
  {
   "cell_type": "code",
   "execution_count": 15,
   "metadata": {},
   "outputs": [
    {
     "name": "stdout",
     "output_type": "stream",
     "text": [
      "1/4 \n",
      "2/4 \n",
      "3/4 \n",
      "4/4 \n"
     ]
    }
   ],
   "source": [
    "# Range of ARIMA models to compute\n",
    "class arimaCfg:\n",
    "    p_range = range(1, 3) # [1,7)\n",
    "    d_range = range(1, 2) # [1,3)\n",
    "    q_range = range(1, 3) # [1,7)\n",
    "\n",
    "dict_arimaFit, dict_arimaPred, df_IC = ARIMA_grid(df_Train.values, arimaCfg, isLog)\n",
    "#dict_arimaFit, dict_arimaPred, df_IC"
   ]
  },
  {
   "cell_type": "markdown",
   "metadata": {},
   "source": [
    "## Model Comparison based on Information Criteria\n",
    "    AIC - Akaike information criterion (AIC) is an estimator of out-of-sample prediction error and thereby relative quality of statistical models for a given set of data.\n",
    "    BIC - Bayesian information criterion (BIC) is a criterion for model selection among a finite set of models. It is based, in part, on the likelihood function and it is closely related to AIC.\n",
    "    HQIC - Hannan–Quinn information criterion (HQIC) is a criterion for model selection. It is an alternative to AIC and BIC."
   ]
  },
  {
   "cell_type": "code",
   "execution_count": 16,
   "metadata": {},
   "outputs": [
    {
     "name": "stdout",
     "output_type": "stream",
     "text": [
      "                  TOP 5 AIC\n",
      "ARIMA(1, 1, 2) -7730.106733\n",
      "ARIMA(2, 1, 2) -7728.401620\n",
      "ARIMA(2, 1, 1) -7728.326817\n",
      "ARIMA(1, 1, 1) -7694.103936\n",
      " \n",
      "                  TOP 5 BIC\n",
      "ARIMA(1, 1, 2) -7706.322071\n",
      "ARIMA(2, 1, 1) -7704.542155\n",
      "ARIMA(2, 1, 2) -7699.860026\n",
      "ARIMA(1, 1, 1) -7675.076206\n",
      " \n",
      "                 TOP 5 HQIC\n",
      "ARIMA(1, 1, 2) -7721.001043\n",
      "ARIMA(2, 1, 1) -7719.221127\n",
      "ARIMA(2, 1, 2) -7717.474792\n",
      "ARIMA(1, 1, 1) -7686.819384\n"
     ]
    }
   ],
   "source": [
    "print(df_IC[['AIC']].sort_values('AIC').head().rename(columns={'AIC': 'TOP 5 AIC'}))\n",
    "print(\" \")\n",
    "print(df_IC[['BIC']].sort_values('BIC').head().rename(columns={'BIC': 'TOP 5 BIC'}))\n",
    "print(\" \")\n",
    "print(df_IC[['HQIC']].sort_values('HQIC').head().rename(columns={'HQIC': 'TOP 5 HQIC'}))"
   ]
  },
  {
   "cell_type": "markdown",
   "metadata": {},
   "source": [
    "## Selected Models Information Criteria Comparison\n",
    "    Evaluate models based on their Information Criteria (IC)"
   ]
  },
  {
   "cell_type": "code",
   "execution_count": 17,
   "metadata": {},
   "outputs": [
    {
     "data": {
      "image/png": "[encoded data removed]",
      "text/plain": [
       "<Figure size 1440x360 with 1 Axes>"
      ]
     },
     "metadata": {
      "needs_background": "light"
     },
     "output_type": "display_data"
    }
   ],
   "source": [
    "labels = ['ARIMA(1, 1, 1)',\n",
    "          'ARIMA(1, 1, 2)']\n",
    "\n",
    "\n",
    "plt.figure(figsize=(20,5))\n",
    "params = {'legend.fontsize': 15,\n",
    "          'legend.handlelength': 2}\n",
    "plt.rcParams.update(params)\n",
    "spacing = 0.05\n",
    "barWidth = 0.025\n",
    "r = np.arange(3) - ((len(labels)/2)-1)*spacing\n",
    "\n",
    "for i in np.arange(len(labels)):\n",
    "    plt.bar(r, df_IC.loc[labels[i]].values, width=barWidth, edgecolor='white', label=labels[i])\n",
    "    r = [x + spacing for x in r]\n",
    " \n",
    "plt.xticks([r + barWidth for r in range(3)], ['AIC', 'BIC', 'HQIC'], fontsize='20')\n",
    "plt.axis((-0.5, 3.0, min(df_IC.min())-0.05*(max(df_IC.max())-min(df_IC.min())), max(df_IC.max())+0.05*(max(df_IC.max())-min(df_IC.min()))))\n",
    "plt.legend(loc='best')\n",
    "plt.grid()\n",
    "plt.show()"
   ]
  },
  {
   "cell_type": "markdown",
   "metadata": {},
   "source": [
    "## Selected Models Cross-Validation\n",
    "    Although IC provides an estimate of the quality of each model, relative to each of the other models. It does so by analyzing the models itself, and not having a look into the data. Another raised question is, which IC should be followed in this case.\n",
    "    By applying cross-validation and having a look at the data itself, and the model, simultaneously. It will be possible to estimate the prediction performance, but also, which model is the most likely to perform better with un-seen data."
   ]
  },
  {
   "cell_type": "code",
   "execution_count": 18,
   "metadata": {
    "scrolled": false
   },
   "outputs": [
    {
     "ename": "AttributeError",
     "evalue": "module 'TimeSeriesCrossValidation.splitTrain' has no attribute 'split_train_variableInput'",
     "output_type": "error",
     "traceback": [
      "\u001b[1;31m---------------------------------------------------------------------------\u001b[0m",
      "\u001b[1;31mAttributeError\u001b[0m                            Traceback (most recent call last)",
      "\u001b[1;32m<ipython-input-18-f4b8b310cb62>\u001b[0m in \u001b[0;36m<module>\u001b[1;34m\u001b[0m\n\u001b[0;32m      3\u001b[0m \u001b[1;33m\u001b[0m\u001b[0m\n\u001b[0;32m      4\u001b[0m \u001b[1;31m# Select data to be used for cross-validation\u001b[0m\u001b[1;33m\u001b[0m\u001b[1;33m\u001b[0m\u001b[1;33m\u001b[0m\u001b[0m\n\u001b[1;32m----> 5\u001b[1;33m Xcv, ycv = splitTrain.split_train_variableInput(sequence = df_Train.values[-540:], \n\u001b[0m\u001b[0;32m      6\u001b[0m                                                 \u001b[0mminSamplesTrain\u001b[0m \u001b[1;33m=\u001b[0m \u001b[1;36m200\u001b[0m\u001b[1;33m,\u001b[0m\u001b[1;33m\u001b[0m\u001b[1;33m\u001b[0m\u001b[0m\n\u001b[0;32m      7\u001b[0m                                                 \u001b[0mnumOutputs\u001b[0m \u001b[1;33m=\u001b[0m \u001b[0mstepsToForecast\u001b[0m\u001b[1;33m[\u001b[0m\u001b[1;33m-\u001b[0m\u001b[1;36m1\u001b[0m\u001b[1;33m]\u001b[0m\u001b[1;33m,\u001b[0m\u001b[1;33m\u001b[0m\u001b[1;33m\u001b[0m\u001b[0m\n",
      "\u001b[1;31mAttributeError\u001b[0m: module 'TimeSeriesCrossValidation.splitTrain' has no attribute 'split_train_variableInput'"
     ]
    }
   ],
   "source": [
    "labels = ['ARIMA(1, 1, 1)',\n",
    "          'ARIMA(1, 1, 2)']\n",
    "\n",
    "# Select data to be used for cross-validation\n",
    "Xcv, ycv = splitTrain.split_train_variableInput(sequence = df_Train.values[-540:], \n",
    "                                                minSamplesTrain = 200, \n",
    "                                                numOutputs = stepsToForecast[-1], \n",
    "                                                numJumps = 10)\n",
    "\n",
    "dict_MAE = {} \n",
    "for model_str in labels:\n",
    "    list_conv = list()\n",
    "    list_mae = list()\n",
    "    list_mape = list()\n",
    "    print(\"%s\" % model_str);\n",
    "    for i in np.arange(len(Xcv)):\n",
    "        try:\n",
    "            model = ARIMA(Xcv[i], order=parse_tuple(model_str[5:]));\n",
    "            model_fit = model.fit(disp=0);\n",
    "\n",
    "            if (~np.isnan(model_fit.mle_retvals.get('fopt'))):\n",
    "                if (isLog):\n",
    "                    predictions_array = np.e**(model_fit.forecast(steps=stepsToForecast[-1])[0]);\n",
    "                else:\n",
    "                    predictions_array = model_fit.forecast(steps=stepsToForecast[-1])[0];\n",
    "\n",
    "                list_conv.append(i+1)\n",
    "\n",
    "                mae = horizon_mae(ycv[i], predictions_array, stepsToForecast)\n",
    "                list_mae.append(mae)\n",
    "\n",
    "                mape = horizon_mape(ycv[i], predictions_array, stepsToForecast)\n",
    "                list_mape.append(mape)\n",
    "\n",
    "                print(\"%d/%d\" % (i+1, len(Xcv)));\n",
    "        except:\n",
    "            continue\n",
    "    print(\"\")\n",
    "\n",
    "    dict_MAE[model_str] =  {'conv': list_conv, 'mae': list_mae, 'mape': list_mape}"
   ]
  },
  {
   "cell_type": "code",
   "execution_count": null,
   "metadata": {
    "scrolled": false
   },
   "outputs": [],
   "source": [
    "labels = ['ARIMA(1, 1, 1)',\n",
    "          'ARIMA(1, 1, 2)']\n",
    "\n",
    "# Select index of stepsToForecast to assess cross-validation from\n",
    "PRED_IX = 3\n",
    "\n",
    "\n",
    "plt.figure(figsize=(20,5));\n",
    "for model_str in labels:\n",
    "    plt.plot(dict_MAE[model_str]['conv'], [mae[PRED_IX-1] for mae in dict_MAE[model_str]['mae']], 'o', markersize=10)\n",
    "plt.legend(labels)\n",
    "plt.xlabel('# RUNS')\n",
    "plt.ylabel('Mean Absolute Error')\n",
    "plt.title('Mean Absolute Error at each Cross-Validation run')\n",
    "if (len(Xcv) > 500):\n",
    "    plt.xticks(np.arange(0, len(Xcv), 100))\n",
    "if (len(Xcv) > 250):\n",
    "    plt.xticks(np.arange(0, len(Xcv), 50))\n",
    "elif (len(Xcv) > 50):\n",
    "    plt.xticks(np.arange(0, len(Xcv), 10))\n",
    "else:\n",
    "    plt.xticks(np.arange(1,len(Xcv)+1))\n",
    "plt.xlim([0, len(Xcv)+1])\n",
    "plt.grid()\n",
    "plt.show();\n",
    "\n",
    "plt.figure(figsize=(20, 5))\n",
    "y_bp = []\n",
    "x_bp = np.empty((0))\n",
    "for model_str in labels:\n",
    "    if (len(dict_MAE[model_str]['conv'])>0):\n",
    "        maeVals = [mae[PRED_IX-1] for mae in dict_MAE[model_str]['mae']]\n",
    "        y_bp.extend(maeVals)\n",
    "        x_bp = np.append(x_bp, np.repeat(model_str, len(maeVals)))\n",
    "        df_bp = pd.DataFrame(data={'ARIMA Model': x_bp, 'Mean Average Error': y_bp})\n",
    "bplot=sns.boxplot(y='Mean Average Error', x='ARIMA Model', data=df_bp, width=0.5) \n",
    "plt.title('Boxplot of Mean Absolute Error of Cross-Validation associated with each ARIMA model');\n",
    "plt.grid(linewidth=.3)\n",
    "plt.show();\n",
    "\n",
    "for i in np.arange(len(labels)):\n",
    "    if (len(dict_MAE[labels[i]]['conv'])>0):\n",
    "        print(labels[i])\n",
    "        print('Prediction for ' + str(stepsToForecast[PRED_IX-1]) + ' ' + xlab + ': MAE = ' \\\n",
    "              + str(round(np.mean([mae[PRED_IX-1] for mae in dict_MAE[labels[i]]['mae']]), 2)) \\\n",
    "              + ' (' + str(round(np.mean([mape[PRED_IX-1] for mape in dict_MAE[labels[i]]['mape']]), 2)) + '%)' )"
   ]
  },
  {
   "cell_type": "markdown",
   "metadata": {},
   "source": [
    "# Model Validation\n",
    "    This section allows to validate the selected model"
   ]
  },
  {
   "cell_type": "code",
   "execution_count": null,
   "metadata": {},
   "outputs": [],
   "source": [
    "# Pick you favourite's models order\n",
    "order = (1, 1, 1)\n",
    "\n",
    "model = ARIMA(df_Train.values, order=order)\n",
    "model_fit = model.fit(disp=0);\n",
    "df_res = pd.DataFrame({\"resid\": model_fit.resid}, index = df_Train.index[order[1]:])\n",
    "model_fit.summary()"
   ]
  },
  {
   "cell_type": "markdown",
   "metadata": {},
   "source": [
    "## Model Residual Analysis\n",
    "    Plots residual and its histogram"
   ]
  },
  {
   "cell_type": "code",
   "execution_count": null,
   "metadata": {},
   "outputs": [],
   "source": [
    "# Plot model residual\n",
    "plt.figure(figsize=(20,5))\n",
    "plt.plot(df_res.index, df_res.values)\n",
    "plt.xlabel(xlab)\n",
    "plt.title('ARIMA' + str(order) +' Residuals')\n",
    "plt.grid()\n",
    "plt.show()\n",
    "\n",
    "# Plot histogram\n",
    "plt.figure(figsize=(20,5))\n",
    "plt.title('ARIMA' + str(order) + ' Residuals (Histogram)')\n",
    "hist_res = df_res['resid'].hist(bins=50, normed=1, edgecolor='black')\n",
    "df_res['resid'].plot(kind='kde', linewidth=2, linestyle='--')\n",
    "plt.xlabel('Residuals')\n",
    "limX = np.mean(df_res.values)+5*np.std(df_res.values);\n",
    "plt.xlim((-limX, limX))\n",
    "plt.grid()\n",
    "plt.show()\n",
    "\n",
    "print (\"Mean: %.6f\" % np.mean(df_res))\n",
    "print (\"Variance: %.6f\" % np.var(df_res))"
   ]
  },
  {
   "cell_type": "markdown",
   "metadata": {},
   "source": [
    "## Normality Test"
   ]
  },
  {
   "cell_type": "markdown",
   "metadata": {},
   "source": [
    "### Kurtosis and Kurtosis Test\n",
    "    Compute the kurtosis (Fisher or Pearson) of a dataset.\n",
    "    Kurtosis is the fourth central moment divided by the square of the variance. If Fisher's definition is used, then 3.0 is subtracted from the result to give 0.0 for a normal distribution. If bias is False then the kurtosis is calculated using k statistics to eliminate bias coming from biased moment estimators\n",
    "\n",
    "    Test whether a dataset has normal kurtosis.\n",
    "    This function tests the null hypothesis that the kurtosis of the population from which the sample was drawn is that of the normal distribution: kurtosis = 3(n-1)/(n+1)."
   ]
  },
  {
   "cell_type": "code",
   "execution_count": null,
   "metadata": {},
   "outputs": [],
   "source": [
    "k, kpval = kurtosistest(df_res['resid'].values)\n",
    "kurtosis_val = kurtosis(df_res['resid'].values, fisher=True)\n",
    "print(\"Kurtosis Test\")\n",
    "print(\"Statistic: %.4f\" % k)\n",
    "print(\"p-value: %.4f\" % kpval)\n",
    "print(\"Kurtosis value: %.4f\" % kurtosis_val)"
   ]
  },
  {
   "cell_type": "markdown",
   "metadata": {},
   "source": [
    "### Skew and Skewness Test\n",
    "    Compute the skewness of a data set.\n",
    "    For normally distributed data, the skewness should be about 0. For unimodal continuous distributions, a skewness value > 0 means that there is more weight in the right tail of the distribution. The function `skewtest` can be used to determine if the skewness value is close enough to 0, statistically speaking.\n",
    "\n",
    "    Test whether the skew is different from the normal distribution.\n",
    "    This function tests the null hypothesis that the skewness of the population that the sample was drawn from is the same as that of a corresponding normal distribution."
   ]
  },
  {
   "cell_type": "code",
   "execution_count": null,
   "metadata": {},
   "outputs": [],
   "source": [
    "s, spval = skewtest(df_res['resid'].values)\n",
    "skew_val = skew(df_res['resid'].values)\n",
    "print(\"Skew Test for\")\n",
    "print(\"Statistic: %.4f\" % s)\n",
    "print(\"p-value: %.4f\" % spval) \n",
    "print(\"Skewness value: %.4f\" % skew_val) "
   ]
  },
  {
   "cell_type": "markdown",
   "metadata": {},
   "source": [
    "### Jarque-Bera and Kolmogorov-Smirnov tests\n",
    "    Tests for goodness of fit (previously mentioned)"
   ]
  },
  {
   "cell_type": "code",
   "execution_count": null,
   "metadata": {},
   "outputs": [],
   "source": [
    "jb, jbpval= stats.jarque_bera(df_res['resid'].values)\n",
    "print(\"Jarque-Bera Test\")\n",
    "print(\"Statistic: %.4f\" % jb)\n",
    "print(\"p-value: %.4f\" % jbpval)\n",
    "\n",
    "print(\" \")\n",
    "\n",
    "ks, kspval = stats.kstest(df_res['resid'].values, 'norm')\n",
    "print(\"Kolmogorov-Smirnov Test\")\n",
    "print(\"Statistic: %.4f\" % ks)\n",
    "print(\"p-value: %.4f\" % kspval) "
   ]
  },
  {
   "cell_type": "markdown",
   "metadata": {},
   "source": [
    "### Engle's Test for Autoregressive Conditional Heteroscedasticity (ARCH)"
   ]
  },
  {
   "cell_type": "code",
   "execution_count": null,
   "metadata": {},
   "outputs": [],
   "source": [
    "lm, lmpval, fval, fpval = het_arch(df_res['resid'].values)\n",
    "print(\"Lagrange multiplier Test\")\n",
    "print(\"LM Statistic: %.4f\" % lm)\n",
    "print(\"LM-Test p-value: %.4f\" % lmpval)\n",
    "print('')\n",
    "print('fstatistic for F test')\n",
    "print(\"F Statistic: %.4f\" % fval)\n",
    "print(\"F-Test p-value: %.4f\" % fpval)"
   ]
  },
  {
   "cell_type": "markdown",
   "metadata": {},
   "source": [
    "## Test for No Autocorrelation"
   ]
  },
  {
   "cell_type": "markdown",
   "metadata": {},
   "source": [
    "### Brock–Dechert–Scheinkman test\n",
    "    Calculate the BDS test statistic for independence of a time series"
   ]
  },
  {
   "cell_type": "code",
   "execution_count": null,
   "metadata": {},
   "outputs": [],
   "source": [
    "result = bds(df_res['resid'].values, max_dim=6);\n",
    "print(\"Brock Dechert and Scheinkman Test\")\n",
    "print(\"Dim 2: z-static %.4f Prob %.4f\" % (result[0][0], result[1][0]))\n",
    "print(\"Dim 3: z-static %.4f Prob %.4f\" % (result[0][1], result[1][1]))\n",
    "print(\"Dim 4: z-static %.4f Prob %.4f\" % (result[0][2], result[1][2]))\n",
    "print(\"Dim 5: z-static %.4f Prob %.4f\" % (result[0][3], result[1][3]))\n",
    "print(\"Dim 6: z-static %.4f Prob %.4f\" % (result[0][4], result[1][4]))"
   ]
  },
  {
   "cell_type": "markdown",
   "metadata": {},
   "source": [
    "### Breusch-Godfrey test\n",
    "    Breusch Godfrey Lagrange Multiplier tests for residual autocorrelation"
   ]
  },
  {
   "cell_type": "code",
   "execution_count": null,
   "metadata": {},
   "outputs": [],
   "source": [
    "lm, lmpval, fval, fpval = acorr_breusch_godfrey(model_fit, nlags = max(order[0], order[2]))\n",
    "print('Lagrange multiplier test statistic')\n",
    "print(\"LM Statistic: %.4f\" % lm)\n",
    "print(\"LM-Test p-value: %.4f\" % lmpval)\n",
    "print('')\n",
    "print('fstatistic for F test')\n",
    "print(\"F Statistic: %.4f\" % fval)\n",
    "print(\"F-Test p-value: %.4f\" % fpval)"
   ]
  },
  {
   "cell_type": "markdown",
   "metadata": {},
   "source": [
    "### Box-Pierce and Ljung-Box tests\n",
    "    Ljung-Box and Box-Pierce statistic differ in their scaling of the autocorrelation function. Ljung-Box test is reported to have better small sample properties."
   ]
  },
  {
   "cell_type": "code",
   "execution_count": null,
   "metadata": {},
   "outputs": [],
   "source": [
    "maxLags = 21\n",
    "lbvalue, pvalue, bpvalue, bppvalue = acorr_ljungbox(df_res['resid'].values, lags = range(1, maxLags), boxpierce=True)\n",
    "\n",
    "index = pd.MultiIndex.from_product([range(1, maxLags)], names=['lags'])\n",
    "columns = pd.MultiIndex.from_product([['Box-Pierce', 'Ljung-Box'], ['Stats', 'p-value']], names=['Test', 'Statistics'])\n",
    "data = np.array([bpvalue, bppvalue, lbvalue, pvalue])\n",
    "\n",
    "boxTests = pd.DataFrame(data.T, index=index, columns=columns)\n",
    "boxTests"
   ]
  },
  {
   "cell_type": "markdown",
   "metadata": {},
   "source": [
    "### QQplot\n",
    "    Q-Q plot of the quantiles of x versus the quantiles/ppf of a distribution.\n",
    "    Can take arguments specifying the parameters for dist or fit them automatically."
   ]
  },
  {
   "cell_type": "code",
   "execution_count": null,
   "metadata": {},
   "outputs": [],
   "source": [
    "qqplot(df_res['resid'].values, stats.t, fit=True, line='45')\n",
    "plt.title('QQ plot');\n",
    "plt.grid()\n",
    "plt.show()"
   ]
  },
  {
   "cell_type": "markdown",
   "metadata": {},
   "source": [
    "### Plot Auto-correlation and Partial Auto-correlation functions\n",
    "    Plots lags on the horizontal and the correlations on vertical axis."
   ]
  },
  {
   "cell_type": "code",
   "execution_count": null,
   "metadata": {
    "scrolled": false
   },
   "outputs": [],
   "source": [
    "fig = plt.figure(figsize=(20,10))\n",
    "\n",
    "# Auto-correlation function\n",
    "ax1 = fig.add_subplot(221)\n",
    "ax1.grid()\n",
    "sm.graphics.tsa.plot_acf(df_res['resid'].values, lags=maxLags, ax=ax1)\n",
    "ax2 = fig.add_subplot(222)\n",
    "ax2.grid()\n",
    "sm.graphics.tsa.plot_acf(df_res['resid'].values, lags=maxLags, ax=ax2, title = 'Zoom Autocorrelation')\n",
    "ax2.axis((0, maxLags, -0.2, 0.2))\n",
    "\n",
    "# Partial auto-correlation function\n",
    "ax3 = fig.add_subplot(223)\n",
    "ax3.grid()\n",
    "sm.graphics.tsa.plot_pacf(df_res['resid'].values, lags=maxLags, ax=ax3);\n",
    "ax4 = fig.add_subplot(224)\n",
    "ax4.grid()\n",
    "sm.graphics.tsa.plot_pacf(df_res['resid'].values, lags=maxLags, ax=ax4, title = 'Zoom Partial Autocorrelation')\n",
    "ax4.axis((0, maxLags, -0.2, 0.2));\n",
    "\n",
    "plt.show()"
   ]
  },
  {
   "cell_type": "markdown",
   "metadata": {},
   "source": [
    "# Model Prediction       \n",
    "    This section allows to see the forecast of the model that was selected and validated."
   ]
  },
  {
   "cell_type": "code",
   "execution_count": null,
   "metadata": {},
   "outputs": [],
   "source": [
    "cmap = plt.get_cmap(\"tab10\")\n",
    "\n",
    "plt.figure(figsize=(20,10))\n",
    "plt.subplot(211)\n",
    "plt.title('Real versus Predicted ' + ylab + ' for ARIMA' + str(order)) \n",
    "plt.plot(range(0, stepsToForecast[-1]+1), np.concatenate((df_train.values[-1], df_test.values.flatten()), axis=0), 'k-o', linewidth=2)\n",
    "plt.plot(range(1, stepsToForecast[-1]+1), dict_arimaPred['ARIMA' + str(order)], color = cmap(0), linewidth=2)\n",
    "plt.plot([0,1], [df_train.values[-1][0], dict_arimaPred['ARIMA' + str(order)][0]], '--', color = cmap(0), linewidth=2)\n",
    "\n",
    "plt.xlim([0,stepsToForecast[-1]])\n",
    "plt.xticks(np.arange(0, stepsToForecast[-1]+1, step=1))\n",
    "plt.grid(color='k', linestyle='--', linewidth=.5)\n",
    "plt.xlabel(xlab)\n",
    "plt.ylabel(ylab)\n",
    "plt.legend(['Real value', 'Predicted value'])\n",
    "\n",
    "plt.subplot(212)\n",
    "plt.axhline(y=0, color='k', linestyle='--', linewidth=2)\n",
    "plt.plot(range(0,stepsToForecast[-1]+1), np.concatenate((np.array([0]), df_test.values.flatten()-dict_arimaPred['ARIMA' + str(order)]), axis=0), 'g-*', linewidth=2)\n",
    "plt.xticks(np.arange(0, stepsToForecast[-1]+1, step=1))\n",
    "plt.xlim([0, stepsToForecast[-1]])\n",
    "plt.xlabel(xlab)\n",
    "plt.ylabel('Prediction error')\n",
    "plt.grid(color='k', linestyle='--', linewidth=.5)\n",
    "plt.show()\n",
    "\n",
    "for i in np.arange(len(labels[1:])):\n",
    "    mae  = horizon_mae(df_test.values, dict_arimaPred['ARIMA' + str(order)], stepsToForecast)\n",
    "    mape = horizon_mape(df_test.values, dict_arimaPred['ARIMA' + str(order)], stepsToForecast)\n",
    "    print(labels[i+1])\n",
    "    for i in np.arange(len(stepsToForecast)):\n",
    "        print('Prediction for ' + str(stepsToForecast[i]) + ' ' + xlab + ': MAE = ' \\\n",
    "              + str(round(mae[i], 2)) + ' (' + str(round(mape[i], 2)) + '%)' )"
   ]
  },
  {
   "cell_type": "code",
   "execution_count": null,
   "metadata": {},
   "outputs": [],
   "source": [
    "# Forecasted values of ARIMA model\n",
    "dict_arimaPred['ARIMA' + str(order)]"
   ]
  },
  {
   "cell_type": "markdown",
   "metadata": {},
   "source": [
    "## Model Prediction Overview\n",
    "    Compare: Fitted values of the model with the training data\n",
    "             Predicted values of the model with the testing data\n",
    "      \n",
    "    This section allows to see the forecast of the model that was selected and validated, but also to compare it against other models."
   ]
  },
  {
   "cell_type": "code",
   "execution_count": null,
   "metadata": {},
   "outputs": [],
   "source": [
    "labels = ['Real Closing price', \n",
    "          'ARIMA(1, 1, 1)',\n",
    "          'ARIMA(1, 1, 2)']\n",
    "\n",
    "plt.figure(figsize=(20,7))\n",
    "plt.title(title + ' fitting and forecasting')\n",
    "plt.plot(1+np.arange(stepsToForecast[-1]), df_test.values, 'k-o', linewidth = 3, label='Real values')\n",
    "for i in np.arange(len(labels)-1):\n",
    "    arimaPlot = plt.plot(1+np.arange(stepsToForecast[-1]), dict_arimaPred[labels[i+1]], '--*' , linewidth = 3, label = labels[i+1] )\n",
    "    plt.plot(1+np.arange(previousStepsToShow)-previousStepsToShow, dict_arimaFit[labels[i+1]][-previousStepsToShow:], '--' , linewidth = 2, color=arimaPlot[0].get_color())\n",
    "plt.legend(loc='upper left', framealpha=0.95)\n",
    "plt.plot(1+np.arange(previousStepsToShow)-previousStepsToShow, df_train.values[-previousStepsToShow:], 'k', linewidth = 4 ) # label = labels[i+1]  legenda\n",
    "plt.grid(color='k', linestyle='--', linewidth=.2)\n",
    "plt.xlim([1-previousStepsToShow,+stepsToForecast[-1]])\n",
    "plt.xticks(1+np.arange(-previousStepsToShow, stepsToForecast[-1]))\n",
    "plt.xlabel('Past and future working days')\n",
    "plt.ylabel(ylab);\n",
    "plt.show()\n",
    "\n",
    "for i in np.arange(len(labels[1:])):\n",
    "    mae  = horizon_mae(df_test.values, dict_arimaPred[labels[i+1]], stepsToForecast)\n",
    "    mape = horizon_mape(df_test.values, dict_arimaPred[labels[i+1]], stepsToForecast)\n",
    "    print(labels[i+1])\n",
    "    for i in np.arange(len(stepsToForecast)):\n",
    "        print('Prediction for ' + str(stepsToForecast[i]) + ' ' + xlab + ': MAE = ' \\\n",
    "              + str(round(mae[i], 2)) + ' (' + str(round(mape[i], 2)) + '%)' )\n",
    "    print(\"\")"
   ]
  },
  {
   "cell_type": "code",
   "execution_count": null,
   "metadata": {},
   "outputs": [],
   "source": []
  }
 ],
 "metadata": {
  "kernelspec": {
   "display_name": "Python 3",
   "language": "python",
   "name": "python3"
  },
  "language_info": {
   "codemirror_mode": {
    "name": "ipython",
    "version": 3
   },
   "file_extension": ".py",
   "mimetype": "text/x-python",
   "name": "python",
   "nbconvert_exporter": "python",
   "pygments_lexer": "ipython3",
   "version": "3.7.3"
  }
 },
 "nbformat": 4,
 "nbformat_minor": 2
}
